{
 "cells": [
  {
   "cell_type": "markdown",
   "id": "f4ee00af",
   "metadata": {
    "papermill": {
     "duration": 0.014337,
     "end_time": "2024-03-06T05:39:03.417509",
     "exception": false,
     "start_time": "2024-03-06T05:39:03.403172",
     "status": "completed"
    },
    "tags": []
   },
   "source": [
    "## Importing Libraries"
   ]
  },
  {
   "cell_type": "code",
   "execution_count": 1,
   "id": "9b5052c5",
   "metadata": {
    "execution": {
     "iopub.execute_input": "2024-03-06T05:39:03.447064Z",
     "iopub.status.busy": "2024-03-06T05:39:03.446330Z",
     "iopub.status.idle": "2024-03-06T05:39:04.382927Z",
     "shell.execute_reply": "2024-03-06T05:39:04.381781Z"
    },
    "papermill": {
     "duration": 0.954819,
     "end_time": "2024-03-06T05:39:04.386170",
     "exception": false,
     "start_time": "2024-03-06T05:39:03.431351",
     "status": "completed"
    },
    "tags": []
   },
   "outputs": [],
   "source": [
    "import pandas as pd\n",
    "import numpy as np\n",
    "import matplotlib.pyplot as plt"
   ]
  },
  {
   "cell_type": "markdown",
   "id": "34176631",
   "metadata": {
    "papermill": {
     "duration": 0.013005,
     "end_time": "2024-03-06T05:39:04.412777",
     "exception": false,
     "start_time": "2024-03-06T05:39:04.399772",
     "status": "completed"
    },
    "tags": []
   },
   "source": [
    "## Load the Dataset"
   ]
  },
  {
   "cell_type": "code",
   "execution_count": 2,
   "id": "8b685b5e",
   "metadata": {
    "execution": {
     "iopub.execute_input": "2024-03-06T05:39:04.442685Z",
     "iopub.status.busy": "2024-03-06T05:39:04.442112Z",
     "iopub.status.idle": "2024-03-06T05:39:26.703898Z",
     "shell.execute_reply": "2024-03-06T05:39:26.702890Z"
    },
    "papermill": {
     "duration": 22.280363,
     "end_time": "2024-03-06T05:39:26.706617",
     "exception": false,
     "start_time": "2024-03-06T05:39:04.426254",
     "status": "completed"
    },
    "tags": []
   },
   "outputs": [
    {
     "name": "stderr",
     "output_type": "stream",
     "text": [
      "2024-03-06 05:39:06.634854: E external/local_xla/xla/stream_executor/cuda/cuda_dnn.cc:9261] Unable to register cuDNN factory: Attempting to register factory for plugin cuDNN when one has already been registered\n",
      "2024-03-06 05:39:06.634992: E external/local_xla/xla/stream_executor/cuda/cuda_fft.cc:607] Unable to register cuFFT factory: Attempting to register factory for plugin cuFFT when one has already been registered\n",
      "2024-03-06 05:39:06.794681: E external/local_xla/xla/stream_executor/cuda/cuda_blas.cc:1515] Unable to register cuBLAS factory: Attempting to register factory for plugin cuBLAS when one has already been registered\n"
     ]
    },
    {
     "name": "stdout",
     "output_type": "stream",
     "text": [
      "Downloading data from https://www.cs.toronto.edu/~kriz/cifar-10-python.tar.gz\n",
      "\u001b[1m170498071/170498071\u001b[0m \u001b[32m━━━━━━━━━━━━━━━━━━━━\u001b[0m\u001b[37m\u001b[0m \u001b[1m5s\u001b[0m 0us/step\n"
     ]
    }
   ],
   "source": [
    "from tensorflow.keras.datasets import cifar10\n",
    "\n",
    "(x_train, y_train), (x_test, y_test) = cifar10.load_data()"
   ]
  },
  {
   "cell_type": "code",
   "execution_count": 3,
   "id": "2d2ae0bd",
   "metadata": {
    "execution": {
     "iopub.execute_input": "2024-03-06T05:39:26.754328Z",
     "iopub.status.busy": "2024-03-06T05:39:26.753535Z",
     "iopub.status.idle": "2024-03-06T05:39:26.762218Z",
     "shell.execute_reply": "2024-03-06T05:39:26.761141Z"
    },
    "papermill": {
     "duration": 0.035147,
     "end_time": "2024-03-06T05:39:26.764460",
     "exception": false,
     "start_time": "2024-03-06T05:39:26.729313",
     "status": "completed"
    },
    "tags": []
   },
   "outputs": [
    {
     "data": {
      "text/plain": [
       "(50000, 32, 32, 3)"
      ]
     },
     "execution_count": 3,
     "metadata": {},
     "output_type": "execute_result"
    }
   ],
   "source": [
    "x_train.shape"
   ]
  },
  {
   "cell_type": "code",
   "execution_count": 4,
   "id": "8cbadf9f",
   "metadata": {
    "execution": {
     "iopub.execute_input": "2024-03-06T05:39:26.812318Z",
     "iopub.status.busy": "2024-03-06T05:39:26.811505Z",
     "iopub.status.idle": "2024-03-06T05:39:26.818959Z",
     "shell.execute_reply": "2024-03-06T05:39:26.817878Z"
    },
    "papermill": {
     "duration": 0.033986,
     "end_time": "2024-03-06T05:39:26.821244",
     "exception": false,
     "start_time": "2024-03-06T05:39:26.787258",
     "status": "completed"
    },
    "tags": []
   },
   "outputs": [
    {
     "data": {
      "text/plain": [
       "(10000, 32, 32, 3)"
      ]
     },
     "execution_count": 4,
     "metadata": {},
     "output_type": "execute_result"
    }
   ],
   "source": [
    "x_test.shape"
   ]
  },
  {
   "cell_type": "code",
   "execution_count": 5,
   "id": "bee455ba",
   "metadata": {
    "execution": {
     "iopub.execute_input": "2024-03-06T05:39:26.868929Z",
     "iopub.status.busy": "2024-03-06T05:39:26.868497Z",
     "iopub.status.idle": "2024-03-06T05:39:26.875402Z",
     "shell.execute_reply": "2024-03-06T05:39:26.874307Z"
    },
    "papermill": {
     "duration": 0.033599,
     "end_time": "2024-03-06T05:39:26.877713",
     "exception": false,
     "start_time": "2024-03-06T05:39:26.844114",
     "status": "completed"
    },
    "tags": []
   },
   "outputs": [
    {
     "data": {
      "text/plain": [
       "(50000, 1)"
      ]
     },
     "execution_count": 5,
     "metadata": {},
     "output_type": "execute_result"
    }
   ],
   "source": [
    "y_train.shape"
   ]
  },
  {
   "cell_type": "code",
   "execution_count": 6,
   "id": "04ff4805",
   "metadata": {
    "execution": {
     "iopub.execute_input": "2024-03-06T05:39:26.925826Z",
     "iopub.status.busy": "2024-03-06T05:39:26.925430Z",
     "iopub.status.idle": "2024-03-06T05:39:26.932268Z",
     "shell.execute_reply": "2024-03-06T05:39:26.931223Z"
    },
    "papermill": {
     "duration": 0.033953,
     "end_time": "2024-03-06T05:39:26.934601",
     "exception": false,
     "start_time": "2024-03-06T05:39:26.900648",
     "status": "completed"
    },
    "tags": []
   },
   "outputs": [
    {
     "data": {
      "text/plain": [
       "(10000, 1)"
      ]
     },
     "execution_count": 6,
     "metadata": {},
     "output_type": "execute_result"
    }
   ],
   "source": [
    "y_test.shape"
   ]
  },
  {
   "cell_type": "code",
   "execution_count": 7,
   "id": "07115a4f",
   "metadata": {
    "execution": {
     "iopub.execute_input": "2024-03-06T05:39:26.984534Z",
     "iopub.status.busy": "2024-03-06T05:39:26.984127Z",
     "iopub.status.idle": "2024-03-06T05:39:26.990800Z",
     "shell.execute_reply": "2024-03-06T05:39:26.990023Z"
    },
    "papermill": {
     "duration": 0.033391,
     "end_time": "2024-03-06T05:39:26.992884",
     "exception": false,
     "start_time": "2024-03-06T05:39:26.959493",
     "status": "completed"
    },
    "tags": []
   },
   "outputs": [
    {
     "data": {
      "text/plain": [
       "(32, 32, 3)"
      ]
     },
     "execution_count": 7,
     "metadata": {},
     "output_type": "execute_result"
    }
   ],
   "source": [
    "x_train[0].shape"
   ]
  },
  {
   "cell_type": "code",
   "execution_count": 8,
   "id": "73ffb48c",
   "metadata": {
    "execution": {
     "iopub.execute_input": "2024-03-06T05:39:27.042755Z",
     "iopub.status.busy": "2024-03-06T05:39:27.042298Z",
     "iopub.status.idle": "2024-03-06T05:39:27.356943Z",
     "shell.execute_reply": "2024-03-06T05:39:27.355860Z"
    },
    "papermill": {
     "duration": 0.342653,
     "end_time": "2024-03-06T05:39:27.359408",
     "exception": false,
     "start_time": "2024-03-06T05:39:27.016755",
     "status": "completed"
    },
    "tags": []
   },
   "outputs": [
    {
     "data": {
      "text/plain": [
       "<matplotlib.image.AxesImage at 0x7ace2f6fa0b0>"
      ]
     },
     "execution_count": 8,
     "metadata": {},
     "output_type": "execute_result"
    },
    {
     "data": {
      "image/png": "[encoded data removed]",
      "text/plain": [
       "<Figure size 640x480 with 1 Axes>"
      ]
     },
     "metadata": {},
     "output_type": "display_data"
    }
   ],
   "source": [
    "plt.imshow(x_train[0])"
   ]
  },
  {
   "cell_type": "code",
   "execution_count": 9,
   "id": "79e53c41",
   "metadata": {
    "execution": {
     "iopub.execute_input": "2024-03-06T05:39:27.409951Z",
     "iopub.status.busy": "2024-03-06T05:39:27.409475Z",
     "iopub.status.idle": "2024-03-06T05:39:27.415123Z",
     "shell.execute_reply": "2024-03-06T05:39:27.413987Z"
    },
    "papermill": {
     "duration": 0.033682,
     "end_time": "2024-03-06T05:39:27.417394",
     "exception": false,
     "start_time": "2024-03-06T05:39:27.383712",
     "status": "completed"
    },
    "tags": []
   },
   "outputs": [],
   "source": [
    "import matplotlib.pyplot as plt"
   ]
  },
  {
   "cell_type": "code",
   "execution_count": 10,
   "id": "a63b27ce",
   "metadata": {
    "execution": {
     "iopub.execute_input": "2024-03-06T05:39:27.468004Z",
     "iopub.status.busy": "2024-03-06T05:39:27.467585Z",
     "iopub.status.idle": "2024-03-06T05:39:27.743377Z",
     "shell.execute_reply": "2024-03-06T05:39:27.742194Z"
    },
    "papermill": {
     "duration": 0.304206,
     "end_time": "2024-03-06T05:39:27.745785",
     "exception": false,
     "start_time": "2024-03-06T05:39:27.441579",
     "status": "completed"
    },
    "tags": []
   },
   "outputs": [
    {
     "data": {
      "text/plain": [
       "<matplotlib.image.AxesImage at 0x7ace24195810>"
      ]
     },
     "execution_count": 10,
     "metadata": {},
     "output_type": "execute_result"
    },
    {
     "data": {
      "image/png": "[encoded data removed]",
      "text/plain": [
       "<Figure size 640x480 with 1 Axes>"
      ]
     },
     "metadata": {},
     "output_type": "display_data"
    }
   ],
   "source": [
    "# FROG\n",
    "plt.imshow(x_train[0])"
   ]
  },
  {
   "cell_type": "code",
   "execution_count": 11,
   "id": "3c979ca6",
   "metadata": {
    "execution": {
     "iopub.execute_input": "2024-03-06T05:39:27.797668Z",
     "iopub.status.busy": "2024-03-06T05:39:27.797282Z",
     "iopub.status.idle": "2024-03-06T05:39:28.079490Z",
     "shell.execute_reply": "2024-03-06T05:39:28.078155Z"
    },
    "papermill": {
     "duration": 0.311565,
     "end_time": "2024-03-06T05:39:28.082341",
     "exception": false,
     "start_time": "2024-03-06T05:39:27.770776",
     "status": "completed"
    },
    "tags": []
   },
   "outputs": [
    {
     "data": {
      "text/plain": [
       "<matplotlib.image.AxesImage at 0x7ace2422bf70>"
      ]
     },
     "execution_count": 11,
     "metadata": {},
     "output_type": "execute_result"
    },
    {
     "data": {
      "image/png": "[encoded data removed]",
      "text/plain": [
       "<Figure size 640x480 with 1 Axes>"
      ]
     },
     "metadata": {},
     "output_type": "display_data"
    }
   ],
   "source": [
    "# HORSE\n",
    "plt.imshow(x_train[12])"
   ]
  },
  {
   "cell_type": "markdown",
   "id": "2fcd5a8f",
   "metadata": {
    "papermill": {
     "duration": 0.026416,
     "end_time": "2024-03-06T05:39:28.134024",
     "exception": false,
     "start_time": "2024-03-06T05:39:28.107608",
     "status": "completed"
    },
    "tags": []
   },
   "source": [
    "## PreProcessing"
   ]
  },
  {
   "cell_type": "code",
   "execution_count": 12,
   "id": "eacbeed9",
   "metadata": {
    "execution": {
     "iopub.execute_input": "2024-03-06T05:39:28.186941Z",
     "iopub.status.busy": "2024-03-06T05:39:28.185824Z",
     "iopub.status.idle": "2024-03-06T05:39:28.194427Z",
     "shell.execute_reply": "2024-03-06T05:39:28.193300Z"
    },
    "papermill": {
     "duration": 0.037515,
     "end_time": "2024-03-06T05:39:28.196620",
     "exception": false,
     "start_time": "2024-03-06T05:39:28.159105",
     "status": "completed"
    },
    "scrolled": true,
    "tags": []
   },
   "outputs": [
    {
     "data": {
      "text/plain": [
       "array([[[ 59,  62,  63],\n",
       "        [ 43,  46,  45],\n",
       "        [ 50,  48,  43],\n",
       "        ...,\n",
       "        [158, 132, 108],\n",
       "        [152, 125, 102],\n",
       "        [148, 124, 103]],\n",
       "\n",
       "       [[ 16,  20,  20],\n",
       "        [  0,   0,   0],\n",
       "        [ 18,   8,   0],\n",
       "        ...,\n",
       "        [123,  88,  55],\n",
       "        [119,  83,  50],\n",
       "        [122,  87,  57]],\n",
       "\n",
       "       [[ 25,  24,  21],\n",
       "        [ 16,   7,   0],\n",
       "        [ 49,  27,   8],\n",
       "        ...,\n",
       "        [118,  84,  50],\n",
       "        [120,  84,  50],\n",
       "        [109,  73,  42]],\n",
       "\n",
       "       ...,\n",
       "\n",
       "       [[208, 170,  96],\n",
       "        [201, 153,  34],\n",
       "        [198, 161,  26],\n",
       "        ...,\n",
       "        [160, 133,  70],\n",
       "        [ 56,  31,   7],\n",
       "        [ 53,  34,  20]],\n",
       "\n",
       "       [[180, 139,  96],\n",
       "        [173, 123,  42],\n",
       "        [186, 144,  30],\n",
       "        ...,\n",
       "        [184, 148,  94],\n",
       "        [ 97,  62,  34],\n",
       "        [ 83,  53,  34]],\n",
       "\n",
       "       [[177, 144, 116],\n",
       "        [168, 129,  94],\n",
       "        [179, 142,  87],\n",
       "        ...,\n",
       "        [216, 184, 140],\n",
       "        [151, 118,  84],\n",
       "        [123,  92,  72]]], dtype=uint8)"
      ]
     },
     "execution_count": 12,
     "metadata": {},
     "output_type": "execute_result"
    }
   ],
   "source": [
    "x_train[0]"
   ]
  },
  {
   "cell_type": "code",
   "execution_count": 13,
   "id": "84a25b71",
   "metadata": {
    "execution": {
     "iopub.execute_input": "2024-03-06T05:39:28.250595Z",
     "iopub.status.busy": "2024-03-06T05:39:28.249327Z",
     "iopub.status.idle": "2024-03-06T05:39:28.257153Z",
     "shell.execute_reply": "2024-03-06T05:39:28.256033Z"
    },
    "papermill": {
     "duration": 0.037364,
     "end_time": "2024-03-06T05:39:28.259516",
     "exception": false,
     "start_time": "2024-03-06T05:39:28.222152",
     "status": "completed"
    },
    "tags": []
   },
   "outputs": [
    {
     "data": {
      "text/plain": [
       "(32, 32, 3)"
      ]
     },
     "execution_count": 13,
     "metadata": {},
     "output_type": "execute_result"
    }
   ],
   "source": [
    "x_train[0].shape"
   ]
  },
  {
   "cell_type": "code",
   "execution_count": 14,
   "id": "3b6fdbbc",
   "metadata": {
    "execution": {
     "iopub.execute_input": "2024-03-06T05:39:28.312876Z",
     "iopub.status.busy": "2024-03-06T05:39:28.312482Z",
     "iopub.status.idle": "2024-03-06T05:39:28.319552Z",
     "shell.execute_reply": "2024-03-06T05:39:28.318049Z"
    },
    "papermill": {
     "duration": 0.037003,
     "end_time": "2024-03-06T05:39:28.322313",
     "exception": false,
     "start_time": "2024-03-06T05:39:28.285310",
     "status": "completed"
    },
    "tags": []
   },
   "outputs": [
    {
     "data": {
      "text/plain": [
       "255"
      ]
     },
     "execution_count": 14,
     "metadata": {},
     "output_type": "execute_result"
    }
   ],
   "source": [
    "x_train[0].max()"
   ]
  },
  {
   "cell_type": "code",
   "execution_count": 15,
   "id": "9756ed04",
   "metadata": {
    "execution": {
     "iopub.execute_input": "2024-03-06T05:39:28.376323Z",
     "iopub.status.busy": "2024-03-06T05:39:28.375616Z",
     "iopub.status.idle": "2024-03-06T05:39:28.989626Z",
     "shell.execute_reply": "2024-03-06T05:39:28.988166Z"
    },
    "papermill": {
     "duration": 0.645247,
     "end_time": "2024-03-06T05:39:28.993165",
     "exception": false,
     "start_time": "2024-03-06T05:39:28.347918",
     "status": "completed"
    },
    "tags": []
   },
   "outputs": [],
   "source": [
    "x_train = x_train/255"
   ]
  },
  {
   "cell_type": "code",
   "execution_count": 16,
   "id": "b015747f",
   "metadata": {
    "execution": {
     "iopub.execute_input": "2024-03-06T05:39:29.065030Z",
     "iopub.status.busy": "2024-03-06T05:39:29.064616Z",
     "iopub.status.idle": "2024-03-06T05:39:29.210313Z",
     "shell.execute_reply": "2024-03-06T05:39:29.208984Z"
    },
    "papermill": {
     "duration": 0.181069,
     "end_time": "2024-03-06T05:39:29.213066",
     "exception": false,
     "start_time": "2024-03-06T05:39:29.031997",
     "status": "completed"
    },
    "tags": []
   },
   "outputs": [],
   "source": [
    "x_test = x_test/255"
   ]
  },
  {
   "cell_type": "code",
   "execution_count": 17,
   "id": "b502fd00",
   "metadata": {
    "execution": {
     "iopub.execute_input": "2024-03-06T05:39:29.267859Z",
     "iopub.status.busy": "2024-03-06T05:39:29.267173Z",
     "iopub.status.idle": "2024-03-06T05:39:29.276271Z",
     "shell.execute_reply": "2024-03-06T05:39:29.275117Z"
    },
    "papermill": {
     "duration": 0.039,
     "end_time": "2024-03-06T05:39:29.278538",
     "exception": false,
     "start_time": "2024-03-06T05:39:29.239538",
     "status": "completed"
    },
    "tags": []
   },
   "outputs": [
    {
     "data": {
      "text/plain": [
       "(50000, 32, 32, 3)"
      ]
     },
     "execution_count": 17,
     "metadata": {},
     "output_type": "execute_result"
    }
   ],
   "source": [
    "x_train.shape"
   ]
  },
  {
   "cell_type": "code",
   "execution_count": 18,
   "id": "4c862f5f",
   "metadata": {
    "execution": {
     "iopub.execute_input": "2024-03-06T05:39:29.333242Z",
     "iopub.status.busy": "2024-03-06T05:39:29.332277Z",
     "iopub.status.idle": "2024-03-06T05:39:29.339865Z",
     "shell.execute_reply": "2024-03-06T05:39:29.338743Z"
    },
    "papermill": {
     "duration": 0.037391,
     "end_time": "2024-03-06T05:39:29.342092",
     "exception": false,
     "start_time": "2024-03-06T05:39:29.304701",
     "status": "completed"
    },
    "tags": []
   },
   "outputs": [
    {
     "data": {
      "text/plain": [
       "(10000, 32, 32, 3)"
      ]
     },
     "execution_count": 18,
     "metadata": {},
     "output_type": "execute_result"
    }
   ],
   "source": [
    "x_test.shape"
   ]
  },
  {
   "cell_type": "code",
   "execution_count": 19,
   "id": "c25a49b0",
   "metadata": {
    "execution": {
     "iopub.execute_input": "2024-03-06T05:39:29.455002Z",
     "iopub.status.busy": "2024-03-06T05:39:29.454563Z",
     "iopub.status.idle": "2024-03-06T05:39:29.462130Z",
     "shell.execute_reply": "2024-03-06T05:39:29.460961Z"
    },
    "papermill": {
     "duration": 0.095691,
     "end_time": "2024-03-06T05:39:29.464361",
     "exception": false,
     "start_time": "2024-03-06T05:39:29.368670",
     "status": "completed"
    },
    "tags": []
   },
   "outputs": [
    {
     "data": {
      "text/plain": [
       "0.0"
      ]
     },
     "execution_count": 19,
     "metadata": {},
     "output_type": "execute_result"
    }
   ],
   "source": [
    "x_train[0].min()"
   ]
  },
  {
   "cell_type": "markdown",
   "id": "0a82582a",
   "metadata": {
    "papermill": {
     "duration": 0.026379,
     "end_time": "2024-03-06T05:39:29.518697",
     "exception": false,
     "start_time": "2024-03-06T05:39:29.492318",
     "status": "completed"
    },
    "tags": []
   },
   "source": [
    "## Labels"
   ]
  },
  {
   "cell_type": "code",
   "execution_count": 20,
   "id": "e1d5131f",
   "metadata": {
    "execution": {
     "iopub.execute_input": "2024-03-06T05:39:29.573829Z",
     "iopub.status.busy": "2024-03-06T05:39:29.573346Z",
     "iopub.status.idle": "2024-03-06T05:39:29.580466Z",
     "shell.execute_reply": "2024-03-06T05:39:29.579380Z"
    },
    "papermill": {
     "duration": 0.037662,
     "end_time": "2024-03-06T05:39:29.582942",
     "exception": false,
     "start_time": "2024-03-06T05:39:29.545280",
     "status": "completed"
    },
    "tags": []
   },
   "outputs": [],
   "source": [
    "from tensorflow.keras.utils import to_categorical"
   ]
  },
  {
   "cell_type": "code",
   "execution_count": 21,
   "id": "a2b24382",
   "metadata": {
    "execution": {
     "iopub.execute_input": "2024-03-06T05:39:29.639740Z",
     "iopub.status.busy": "2024-03-06T05:39:29.638517Z",
     "iopub.status.idle": "2024-03-06T05:39:29.646024Z",
     "shell.execute_reply": "2024-03-06T05:39:29.645027Z"
    },
    "papermill": {
     "duration": 0.038044,
     "end_time": "2024-03-06T05:39:29.648187",
     "exception": false,
     "start_time": "2024-03-06T05:39:29.610143",
     "status": "completed"
    },
    "tags": []
   },
   "outputs": [
    {
     "data": {
      "text/plain": [
       "(50000, 1)"
      ]
     },
     "execution_count": 21,
     "metadata": {},
     "output_type": "execute_result"
    }
   ],
   "source": [
    "y_train.shape"
   ]
  },
  {
   "cell_type": "code",
   "execution_count": 22,
   "id": "adfe0108",
   "metadata": {
    "execution": {
     "iopub.execute_input": "2024-03-06T05:39:29.704899Z",
     "iopub.status.busy": "2024-03-06T05:39:29.704133Z",
     "iopub.status.idle": "2024-03-06T05:39:29.710486Z",
     "shell.execute_reply": "2024-03-06T05:39:29.709458Z"
    },
    "papermill": {
     "duration": 0.037592,
     "end_time": "2024-03-06T05:39:29.712808",
     "exception": false,
     "start_time": "2024-03-06T05:39:29.675216",
     "status": "completed"
    },
    "tags": []
   },
   "outputs": [
    {
     "data": {
      "text/plain": [
       "array([6], dtype=uint8)"
      ]
     },
     "execution_count": 22,
     "metadata": {},
     "output_type": "execute_result"
    }
   ],
   "source": [
    "y_train[0]"
   ]
  },
  {
   "cell_type": "code",
   "execution_count": 23,
   "id": "21e7cd9f",
   "metadata": {
    "execution": {
     "iopub.execute_input": "2024-03-06T05:39:29.769527Z",
     "iopub.status.busy": "2024-03-06T05:39:29.769046Z",
     "iopub.status.idle": "2024-03-06T05:39:29.777009Z",
     "shell.execute_reply": "2024-03-06T05:39:29.775477Z"
    },
    "papermill": {
     "duration": 0.03937,
     "end_time": "2024-03-06T05:39:29.779560",
     "exception": false,
     "start_time": "2024-03-06T05:39:29.740190",
     "status": "completed"
    },
    "tags": []
   },
   "outputs": [],
   "source": [
    "y_cat_train = to_categorical(y_train,10)"
   ]
  },
  {
   "cell_type": "code",
   "execution_count": 24,
   "id": "94623e45",
   "metadata": {
    "execution": {
     "iopub.execute_input": "2024-03-06T05:39:29.836705Z",
     "iopub.status.busy": "2024-03-06T05:39:29.836283Z",
     "iopub.status.idle": "2024-03-06T05:39:29.843466Z",
     "shell.execute_reply": "2024-03-06T05:39:29.842062Z"
    },
    "papermill": {
     "duration": 0.038529,
     "end_time": "2024-03-06T05:39:29.845572",
     "exception": false,
     "start_time": "2024-03-06T05:39:29.807043",
     "status": "completed"
    },
    "tags": []
   },
   "outputs": [
    {
     "data": {
      "text/plain": [
       "(50000, 10)"
      ]
     },
     "execution_count": 24,
     "metadata": {},
     "output_type": "execute_result"
    }
   ],
   "source": [
    "y_cat_train.shape"
   ]
  },
  {
   "cell_type": "code",
   "execution_count": 25,
   "id": "1fa2941e",
   "metadata": {
    "execution": {
     "iopub.execute_input": "2024-03-06T05:39:29.902844Z",
     "iopub.status.busy": "2024-03-06T05:39:29.902423Z",
     "iopub.status.idle": "2024-03-06T05:39:29.909284Z",
     "shell.execute_reply": "2024-03-06T05:39:29.908475Z"
    },
    "papermill": {
     "duration": 0.038218,
     "end_time": "2024-03-06T05:39:29.911432",
     "exception": false,
     "start_time": "2024-03-06T05:39:29.873214",
     "status": "completed"
    },
    "tags": []
   },
   "outputs": [
    {
     "data": {
      "text/plain": [
       "array([0., 0., 0., 0., 0., 0., 1., 0., 0., 0.])"
      ]
     },
     "execution_count": 25,
     "metadata": {},
     "output_type": "execute_result"
    }
   ],
   "source": [
    "y_cat_train[0]"
   ]
  },
  {
   "cell_type": "code",
   "execution_count": 26,
   "id": "57250bee",
   "metadata": {
    "execution": {
     "iopub.execute_input": "2024-03-06T05:39:29.970688Z",
     "iopub.status.busy": "2024-03-06T05:39:29.970213Z",
     "iopub.status.idle": "2024-03-06T05:39:29.975683Z",
     "shell.execute_reply": "2024-03-06T05:39:29.974794Z"
    },
    "papermill": {
     "duration": 0.038461,
     "end_time": "2024-03-06T05:39:29.977750",
     "exception": false,
     "start_time": "2024-03-06T05:39:29.939289",
     "status": "completed"
    },
    "tags": []
   },
   "outputs": [],
   "source": [
    "y_cat_test = to_categorical(y_test,10)"
   ]
  },
  {
   "cell_type": "markdown",
   "id": "27b14121",
   "metadata": {
    "papermill": {
     "duration": 0.028615,
     "end_time": "2024-03-06T05:39:30.034569",
     "exception": false,
     "start_time": "2024-03-06T05:39:30.005954",
     "status": "completed"
    },
    "tags": []
   },
   "source": [
    "## Buiding the Model"
   ]
  },
  {
   "cell_type": "code",
   "execution_count": 27,
   "id": "5bd229a3",
   "metadata": {
    "execution": {
     "iopub.execute_input": "2024-03-06T05:39:30.092977Z",
     "iopub.status.busy": "2024-03-06T05:39:30.092555Z",
     "iopub.status.idle": "2024-03-06T05:39:30.101017Z",
     "shell.execute_reply": "2024-03-06T05:39:30.099910Z"
    },
    "papermill": {
     "duration": 0.040362,
     "end_time": "2024-03-06T05:39:30.103397",
     "exception": false,
     "start_time": "2024-03-06T05:39:30.063035",
     "status": "completed"
    },
    "tags": []
   },
   "outputs": [],
   "source": [
    "from tensorflow.keras.models import Sequential\n",
    "from tensorflow.keras.layers import Dense, Conv2D, MaxPool2D, Flatten"
   ]
  },
  {
   "cell_type": "code",
   "execution_count": 28,
   "id": "8dc042ee",
   "metadata": {
    "execution": {
     "iopub.execute_input": "2024-03-06T05:39:30.161649Z",
     "iopub.status.busy": "2024-03-06T05:39:30.161212Z",
     "iopub.status.idle": "2024-03-06T05:39:30.304522Z",
     "shell.execute_reply": "2024-03-06T05:39:30.303303Z"
    },
    "papermill": {
     "duration": 0.175339,
     "end_time": "2024-03-06T05:39:30.306947",
     "exception": false,
     "start_time": "2024-03-06T05:39:30.131608",
     "status": "completed"
    },
    "tags": []
   },
   "outputs": [
    {
     "name": "stderr",
     "output_type": "stream",
     "text": [
      "/opt/conda/lib/python3.10/site-packages/keras/src/layers/convolutional/base_conv.py:99: UserWarning: Do not pass an `input_shape`/`input_dim` argument to a layer. When using Sequential models, prefer using an `Input(shape)` object as the first layer in the model instead.\n",
      "  super().__init__(\n"
     ]
    }
   ],
   "source": [
    "model = Sequential()\n",
    "\n",
    "# FIRST SET OF LAYERS \n",
    "\n",
    "# CONOLUTIONAL LAYER\n",
    "model.add(Conv2D(filters=32, kernel_size=(4,4), input_shape=(32, 32, 3), activation='relu'))\n",
    "\n",
    "# POOLING LAYER\n",
    "model.add(MaxPool2D(pool_size=(2, 2)))\n",
    "\n",
    "# SECOND SET OF LAYERS\n",
    "\n",
    "# CONOLUTIONAL LAYER\n",
    "model.add(Conv2D(filters=32, kernel_size=(4,4), input_shape=(32, 32, 3), activation='relu'))\n",
    "\n",
    "# POOLING LAYER\n",
    "model.add(MaxPool2D(pool_size=(2, 2)))\n",
    "\n",
    "# FLATTEN MAGES FROM 28 BY 28 TO 764 BEFORE FINAL LAYER\n",
    "model.add(Flatten())\n",
    "\n",
    "# 256 NEURONS IN DENSE HIDDEN LAYER (YOU CAN CHANGE THIS NUMBER OF NEURONS)\n",
    "model.add(Dense(256, activation='relu'))\n",
    "\n",
    "# LAST LAYER IS THE CLASSIFIER THUS 10 POSSIBLE CLASSES\n",
    "model.add(Dense(10, activation='softmax'))\n",
    "\n",
    "model.compile(loss='categorical_crossentropy',\n",
    "              optimizer='rmsprop',\n",
    "              metrics=['accuracy'])"
   ]
  },
  {
   "cell_type": "code",
   "execution_count": 29,
   "id": "d8bc06f3",
   "metadata": {
    "execution": {
     "iopub.execute_input": "2024-03-06T05:39:30.381665Z",
     "iopub.status.busy": "2024-03-06T05:39:30.381269Z",
     "iopub.status.idle": "2024-03-06T05:39:30.407506Z",
     "shell.execute_reply": "2024-03-06T05:39:30.406712Z"
    },
    "papermill": {
     "duration": 0.074458,
     "end_time": "2024-03-06T05:39:30.409516",
     "exception": false,
     "start_time": "2024-03-06T05:39:30.335058",
     "status": "completed"
    },
    "tags": []
   },
   "outputs": [
    {
     "data": {
      "text/html": [
       "<pre style=\"white-space:pre;overflow-x:auto;line-height:normal;font-family:Menlo,'DejaVu Sans Mono',consolas,'Courier New',monospace\"><span style=\"font-weight: bold\">Model: \"sequential\"</span>\n",
       "</pre>\n"
      ],
      "text/plain": [
       "\u001b[1mModel: \"sequential\"\u001b[0m\n"
      ]
     },
     "metadata": {},
     "output_type": "display_data"
    },
    {
     "data": {
      "text/html": [
       "<pre style=\"white-space:pre;overflow-x:auto;line-height:normal;font-family:Menlo,'DejaVu Sans Mono',consolas,'Courier New',monospace\">┏━━━━━━━━━━━━━━━━━━━━━━━━━━━━━━━━━┳━━━━━━━━━━━━━━━━━━━━━━━━┳━━━━━━━━━━━━━━━┓\n",
       "┃<span style=\"font-weight: bold\"> Layer (type)                    </span>┃<span style=\"font-weight: bold\"> Output Shape           </span>┃<span style=\"font-weight: bold\">       Param # </span>┃\n",
       "┡━━━━━━━━━━━━━━━━━━━━━━━━━━━━━━━━━╇━━━━━━━━━━━━━━━━━━━━━━━━╇━━━━━━━━━━━━━━━┩\n",
       "│ conv2d (<span style=\"color: #0087ff; text-decoration-color: #0087ff\">Conv2D</span>)                 │ (<span style=\"color: #00d7ff; text-decoration-color: #00d7ff\">None</span>, <span style=\"color: #00af00; text-decoration-color: #00af00\">29</span>, <span style=\"color: #00af00; text-decoration-color: #00af00\">29</span>, <span style=\"color: #00af00; text-decoration-color: #00af00\">32</span>)     │         <span style=\"color: #00af00; text-decoration-color: #00af00\">1,568</span> │\n",
       "├─────────────────────────────────┼────────────────────────┼───────────────┤\n",
       "│ max_pooling2d (<span style=\"color: #0087ff; text-decoration-color: #0087ff\">MaxPooling2D</span>)    │ (<span style=\"color: #00d7ff; text-decoration-color: #00d7ff\">None</span>, <span style=\"color: #00af00; text-decoration-color: #00af00\">14</span>, <span style=\"color: #00af00; text-decoration-color: #00af00\">14</span>, <span style=\"color: #00af00; text-decoration-color: #00af00\">32</span>)     │             <span style=\"color: #00af00; text-decoration-color: #00af00\">0</span> │\n",
       "├─────────────────────────────────┼────────────────────────┼───────────────┤\n",
       "│ conv2d_1 (<span style=\"color: #0087ff; text-decoration-color: #0087ff\">Conv2D</span>)               │ (<span style=\"color: #00d7ff; text-decoration-color: #00d7ff\">None</span>, <span style=\"color: #00af00; text-decoration-color: #00af00\">11</span>, <span style=\"color: #00af00; text-decoration-color: #00af00\">11</span>, <span style=\"color: #00af00; text-decoration-color: #00af00\">32</span>)     │        <span style=\"color: #00af00; text-decoration-color: #00af00\">16,416</span> │\n",
       "├─────────────────────────────────┼────────────────────────┼───────────────┤\n",
       "│ max_pooling2d_1 (<span style=\"color: #0087ff; text-decoration-color: #0087ff\">MaxPooling2D</span>)  │ (<span style=\"color: #00d7ff; text-decoration-color: #00d7ff\">None</span>, <span style=\"color: #00af00; text-decoration-color: #00af00\">5</span>, <span style=\"color: #00af00; text-decoration-color: #00af00\">5</span>, <span style=\"color: #00af00; text-decoration-color: #00af00\">32</span>)       │             <span style=\"color: #00af00; text-decoration-color: #00af00\">0</span> │\n",
       "├─────────────────────────────────┼────────────────────────┼───────────────┤\n",
       "│ flatten (<span style=\"color: #0087ff; text-decoration-color: #0087ff\">Flatten</span>)               │ (<span style=\"color: #00d7ff; text-decoration-color: #00d7ff\">None</span>, <span style=\"color: #00af00; text-decoration-color: #00af00\">800</span>)            │             <span style=\"color: #00af00; text-decoration-color: #00af00\">0</span> │\n",
       "├─────────────────────────────────┼────────────────────────┼───────────────┤\n",
       "│ dense (<span style=\"color: #0087ff; text-decoration-color: #0087ff\">Dense</span>)                   │ (<span style=\"color: #00d7ff; text-decoration-color: #00d7ff\">None</span>, <span style=\"color: #00af00; text-decoration-color: #00af00\">256</span>)            │       <span style=\"color: #00af00; text-decoration-color: #00af00\">205,056</span> │\n",
       "├─────────────────────────────────┼────────────────────────┼───────────────┤\n",
       "│ dense_1 (<span style=\"color: #0087ff; text-decoration-color: #0087ff\">Dense</span>)                 │ (<span style=\"color: #00d7ff; text-decoration-color: #00d7ff\">None</span>, <span style=\"color: #00af00; text-decoration-color: #00af00\">10</span>)             │         <span style=\"color: #00af00; text-decoration-color: #00af00\">2,570</span> │\n",
       "└─────────────────────────────────┴────────────────────────┴───────────────┘\n",
       "</pre>\n"
      ],
      "text/plain": [
       "┏━━━━━━━━━━━━━━━━━━━━━━━━━━━━━━━━━┳━━━━━━━━━━━━━━━━━━━━━━━━┳━━━━━━━━━━━━━━━┓\n",
       "┃\u001b[1m \u001b[0m\u001b[1mLayer (type)                   \u001b[0m\u001b[1m \u001b[0m┃\u001b[1m \u001b[0m\u001b[1mOutput Shape          \u001b[0m\u001b[1m \u001b[0m┃\u001b[1m \u001b[0m\u001b[1m      Param #\u001b[0m\u001b[1m \u001b[0m┃\n",
       "┡━━━━━━━━━━━━━━━━━━━━━━━━━━━━━━━━━╇━━━━━━━━━━━━━━━━━━━━━━━━╇━━━━━━━━━━━━━━━┩\n",
       "│ conv2d (\u001b[38;5;33mConv2D\u001b[0m)                 │ (\u001b[38;5;45mNone\u001b[0m, \u001b[38;5;34m29\u001b[0m, \u001b[38;5;34m29\u001b[0m, \u001b[38;5;34m32\u001b[0m)     │         \u001b[38;5;34m1,568\u001b[0m │\n",
       "├─────────────────────────────────┼────────────────────────┼───────────────┤\n",
       "│ max_pooling2d (\u001b[38;5;33mMaxPooling2D\u001b[0m)    │ (\u001b[38;5;45mNone\u001b[0m, \u001b[38;5;34m14\u001b[0m, \u001b[38;5;34m14\u001b[0m, \u001b[38;5;34m32\u001b[0m)     │             \u001b[38;5;34m0\u001b[0m │\n",
       "├─────────────────────────────────┼────────────────────────┼───────────────┤\n",
       "│ conv2d_1 (\u001b[38;5;33mConv2D\u001b[0m)               │ (\u001b[38;5;45mNone\u001b[0m, \u001b[38;5;34m11\u001b[0m, \u001b[38;5;34m11\u001b[0m, \u001b[38;5;34m32\u001b[0m)     │        \u001b[38;5;34m16,416\u001b[0m │\n",
       "├─────────────────────────────────┼────────────────────────┼───────────────┤\n",
       "│ max_pooling2d_1 (\u001b[38;5;33mMaxPooling2D\u001b[0m)  │ (\u001b[38;5;45mNone\u001b[0m, \u001b[38;5;34m5\u001b[0m, \u001b[38;5;34m5\u001b[0m, \u001b[38;5;34m32\u001b[0m)       │             \u001b[38;5;34m0\u001b[0m │\n",
       "├─────────────────────────────────┼────────────────────────┼───────────────┤\n",
       "│ flatten (\u001b[38;5;33mFlatten\u001b[0m)               │ (\u001b[38;5;45mNone\u001b[0m, \u001b[38;5;34m800\u001b[0m)            │             \u001b[38;5;34m0\u001b[0m │\n",
       "├─────────────────────────────────┼────────────────────────┼───────────────┤\n",
       "│ dense (\u001b[38;5;33mDense\u001b[0m)                   │ (\u001b[38;5;45mNone\u001b[0m, \u001b[38;5;34m256\u001b[0m)            │       \u001b[38;5;34m205,056\u001b[0m │\n",
       "├─────────────────────────────────┼────────────────────────┼───────────────┤\n",
       "│ dense_1 (\u001b[38;5;33mDense\u001b[0m)                 │ (\u001b[38;5;45mNone\u001b[0m, \u001b[38;5;34m10\u001b[0m)             │         \u001b[38;5;34m2,570\u001b[0m │\n",
       "└─────────────────────────────────┴────────────────────────┴───────────────┘\n"
      ]
     },
     "metadata": {},
     "output_type": "display_data"
    },
    {
     "data": {
      "text/html": [
       "<pre style=\"white-space:pre;overflow-x:auto;line-height:normal;font-family:Menlo,'DejaVu Sans Mono',consolas,'Courier New',monospace\"><span style=\"font-weight: bold\"> Total params: </span><span style=\"color: #00af00; text-decoration-color: #00af00\">225,610</span> (881.29 KB)\n",
       "</pre>\n"
      ],
      "text/plain": [
       "\u001b[1m Total params: \u001b[0m\u001b[38;5;34m225,610\u001b[0m (881.29 KB)\n"
      ]
     },
     "metadata": {},
     "output_type": "display_data"
    },
    {
     "data": {
      "text/html": [
       "<pre style=\"white-space:pre;overflow-x:auto;line-height:normal;font-family:Menlo,'DejaVu Sans Mono',consolas,'Courier New',monospace\"><span style=\"font-weight: bold\"> Trainable params: </span><span style=\"color: #00af00; text-decoration-color: #00af00\">225,610</span> (881.29 KB)\n",
       "</pre>\n"
      ],
      "text/plain": [
       "\u001b[1m Trainable params: \u001b[0m\u001b[38;5;34m225,610\u001b[0m (881.29 KB)\n"
      ]
     },
     "metadata": {},
     "output_type": "display_data"
    },
    {
     "data": {
      "text/html": [
       "<pre style=\"white-space:pre;overflow-x:auto;line-height:normal;font-family:Menlo,'DejaVu Sans Mono',consolas,'Courier New',monospace\"><span style=\"font-weight: bold\"> Non-trainable params: </span><span style=\"color: #00af00; text-decoration-color: #00af00\">0</span> (0.00 B)\n",
       "</pre>\n"
      ],
      "text/plain": [
       "\u001b[1m Non-trainable params: \u001b[0m\u001b[38;5;34m0\u001b[0m (0.00 B)\n"
      ]
     },
     "metadata": {},
     "output_type": "display_data"
    }
   ],
   "source": [
    "model.summary()"
   ]
  },
  {
   "cell_type": "code",
   "execution_count": 30,
   "id": "b27bf047",
   "metadata": {
    "execution": {
     "iopub.execute_input": "2024-03-06T05:39:30.470389Z",
     "iopub.status.busy": "2024-03-06T05:39:30.469672Z",
     "iopub.status.idle": "2024-03-06T05:39:30.478376Z",
     "shell.execute_reply": "2024-03-06T05:39:30.477321Z"
    },
    "papermill": {
     "duration": 0.041646,
     "end_time": "2024-03-06T05:39:30.480692",
     "exception": false,
     "start_time": "2024-03-06T05:39:30.439046",
     "status": "completed"
    },
    "tags": []
   },
   "outputs": [],
   "source": [
    "from tensorflow.keras.callbacks import EarlyStopping"
   ]
  },
  {
   "cell_type": "code",
   "execution_count": 31,
   "id": "3f9abc6c",
   "metadata": {
    "execution": {
     "iopub.execute_input": "2024-03-06T05:39:30.543169Z",
     "iopub.status.busy": "2024-03-06T05:39:30.542011Z",
     "iopub.status.idle": "2024-03-06T05:39:30.547068Z",
     "shell.execute_reply": "2024-03-06T05:39:30.546315Z"
    },
    "papermill": {
     "duration": 0.038087,
     "end_time": "2024-03-06T05:39:30.549136",
     "exception": false,
     "start_time": "2024-03-06T05:39:30.511049",
     "status": "completed"
    },
    "tags": []
   },
   "outputs": [],
   "source": [
    "early_stop = EarlyStopping(monitor='val_loss', patience=3)"
   ]
  },
  {
   "cell_type": "markdown",
   "id": "d043f488",
   "metadata": {
    "papermill": {
     "duration": 0.02905,
     "end_time": "2024-03-06T05:39:30.607743",
     "exception": false,
     "start_time": "2024-03-06T05:39:30.578693",
     "status": "completed"
    },
    "tags": []
   },
   "source": [
    "## Train the Model"
   ]
  },
  {
   "cell_type": "code",
   "execution_count": 32,
   "id": "b0028046",
   "metadata": {
    "execution": {
     "iopub.execute_input": "2024-03-06T05:39:30.668790Z",
     "iopub.status.busy": "2024-03-06T05:39:30.667856Z",
     "iopub.status.idle": "2024-03-06T05:45:06.021977Z",
     "shell.execute_reply": "2024-03-06T05:45:06.020396Z"
    },
    "papermill": {
     "duration": 335.868588,
     "end_time": "2024-03-06T05:45:06.505307",
     "exception": false,
     "start_time": "2024-03-06T05:39:30.636719",
     "status": "completed"
    },
    "tags": []
   },
   "outputs": [
    {
     "name": "stdout",
     "output_type": "stream",
     "text": [
      "Epoch 1/10\n",
      "\u001b[1m1563/1563\u001b[0m \u001b[32m━━━━━━━━━━━━━━━━━━━━\u001b[0m\u001b[37m\u001b[0m \u001b[1m34s\u001b[0m 21ms/step - accuracy: 0.3632 - loss: 1.7428 - val_accuracy: 0.5024 - val_loss: 1.3872\n",
      "Epoch 2/10\n",
      "\u001b[1m1563/1563\u001b[0m \u001b[32m━━━━━━━━━━━━━━━━━━━━\u001b[0m\u001b[37m\u001b[0m \u001b[1m32s\u001b[0m 20ms/step - accuracy: 0.5697 - loss: 1.2238 - val_accuracy: 0.5834 - val_loss: 1.1789\n",
      "Epoch 3/10\n",
      "\u001b[1m1563/1563\u001b[0m \u001b[32m━━━━━━━━━━━━━━━━━━━━\u001b[0m\u001b[37m\u001b[0m \u001b[1m41s\u001b[0m 20ms/step - accuracy: 0.6368 - loss: 1.0409 - val_accuracy: 0.6375 - val_loss: 1.0443\n",
      "Epoch 4/10\n",
      "\u001b[1m1563/1563\u001b[0m \u001b[32m━━━━━━━━━━━━━━━━━━━━\u001b[0m\u001b[37m\u001b[0m \u001b[1m31s\u001b[0m 20ms/step - accuracy: 0.6852 - loss: 0.9189 - val_accuracy: 0.6490 - val_loss: 1.0366\n",
      "Epoch 5/10\n",
      "\u001b[1m1563/1563\u001b[0m \u001b[32m━━━━━━━━━━━━━━━━━━━━\u001b[0m\u001b[37m\u001b[0m \u001b[1m41s\u001b[0m 20ms/step - accuracy: 0.7172 - loss: 0.8217 - val_accuracy: 0.6271 - val_loss: 1.1874\n",
      "Epoch 6/10\n",
      "\u001b[1m1563/1563\u001b[0m \u001b[32m━━━━━━━━━━━━━━━━━━━━\u001b[0m\u001b[37m\u001b[0m \u001b[1m31s\u001b[0m 20ms/step - accuracy: 0.7416 - loss: 0.7565 - val_accuracy: 0.6700 - val_loss: 0.9938\n",
      "Epoch 7/10\n",
      "\u001b[1m1563/1563\u001b[0m \u001b[32m━━━━━━━━━━━━━━━━━━━━\u001b[0m\u001b[37m\u001b[0m \u001b[1m41s\u001b[0m 20ms/step - accuracy: 0.7643 - loss: 0.6925 - val_accuracy: 0.6459 - val_loss: 1.2295\n",
      "Epoch 8/10\n",
      "\u001b[1m1563/1563\u001b[0m \u001b[32m━━━━━━━━━━━━━━━━━━━━\u001b[0m\u001b[37m\u001b[0m \u001b[1m32s\u001b[0m 20ms/step - accuracy: 0.7812 - loss: 0.6382 - val_accuracy: 0.6703 - val_loss: 1.0567\n",
      "Epoch 9/10\n",
      "\u001b[1m1563/1563\u001b[0m \u001b[32m━━━━━━━━━━━━━━━━━━━━\u001b[0m\u001b[37m\u001b[0m \u001b[1m41s\u001b[0m 20ms/step - accuracy: 0.7942 - loss: 0.5987 - val_accuracy: 0.6663 - val_loss: 1.0628\n"
     ]
    },
    {
     "data": {
      "text/plain": [
       "<keras.src.callbacks.history.History at 0x7ace2416f7f0>"
      ]
     },
     "execution_count": 32,
     "metadata": {},
     "output_type": "execute_result"
    }
   ],
   "source": [
    "model.fit(x_train,y_cat_train,epochs=10,validation_data=(x_test,y_cat_test),callbacks=[early_stop])"
   ]
  },
  {
   "cell_type": "markdown",
   "id": "ef524eee",
   "metadata": {
    "papermill": {
     "duration": 0.483419,
     "end_time": "2024-03-06T05:45:07.475405",
     "exception": false,
     "start_time": "2024-03-06T05:45:06.991986",
     "status": "completed"
    },
    "tags": []
   },
   "source": [
    "## Evaluation the Model"
   ]
  },
  {
   "cell_type": "code",
   "execution_count": 33,
   "id": "0c35aec2",
   "metadata": {
    "execution": {
     "iopub.execute_input": "2024-03-06T05:45:08.512554Z",
     "iopub.status.busy": "2024-03-06T05:45:08.512120Z",
     "iopub.status.idle": "2024-03-06T05:45:08.519834Z",
     "shell.execute_reply": "2024-03-06T05:45:08.518638Z"
    },
    "papermill": {
     "duration": 0.492726,
     "end_time": "2024-03-06T05:45:08.522186",
     "exception": false,
     "start_time": "2024-03-06T05:45:08.029460",
     "status": "completed"
    },
    "tags": []
   },
   "outputs": [],
   "source": [
    "losses = pd.DataFrame(model.history.history)"
   ]
  },
  {
   "cell_type": "code",
   "execution_count": 34,
   "id": "6a8f9223",
   "metadata": {
    "execution": {
     "iopub.execute_input": "2024-03-06T05:45:09.520220Z",
     "iopub.status.busy": "2024-03-06T05:45:09.519780Z",
     "iopub.status.idle": "2024-03-06T05:45:09.538855Z",
     "shell.execute_reply": "2024-03-06T05:45:09.537798Z"
    },
    "papermill": {
     "duration": 0.517584,
     "end_time": "2024-03-06T05:45:09.541296",
     "exception": false,
     "start_time": "2024-03-06T05:45:09.023712",
     "status": "completed"
    },
    "tags": []
   },
   "outputs": [
    {
     "data": {
      "text/html": [
       "<div>\n",
       "<style scoped>\n",
       "    .dataframe tbody tr th:only-of-type {\n",
       "        vertical-align: middle;\n",
       "    }\n",
       "\n",
       "    .dataframe tbody tr th {\n",
       "        vertical-align: top;\n",
       "    }\n",
       "\n",
       "    .dataframe thead th {\n",
       "        text-align: right;\n",
       "    }\n",
       "</style>\n",
       "<table border=\"1\" class=\"dataframe\">\n",
       "  <thead>\n",
       "    <tr style=\"text-align: right;\">\n",
       "      <th></th>\n",
       "      <th>accuracy</th>\n",
       "      <th>loss</th>\n",
       "      <th>val_accuracy</th>\n",
       "      <th>val_loss</th>\n",
       "    </tr>\n",
       "  </thead>\n",
       "  <tbody>\n",
       "    <tr>\n",
       "      <th>0</th>\n",
       "      <td>0.44654</td>\n",
       "      <td>1.537821</td>\n",
       "      <td>0.5024</td>\n",
       "      <td>1.387193</td>\n",
       "    </tr>\n",
       "    <tr>\n",
       "      <th>1</th>\n",
       "      <td>0.58084</td>\n",
       "      <td>1.192065</td>\n",
       "      <td>0.5834</td>\n",
       "      <td>1.178866</td>\n",
       "    </tr>\n",
       "    <tr>\n",
       "      <th>2</th>\n",
       "      <td>0.64180</td>\n",
       "      <td>1.029286</td>\n",
       "      <td>0.6375</td>\n",
       "      <td>1.044295</td>\n",
       "    </tr>\n",
       "    <tr>\n",
       "      <th>3</th>\n",
       "      <td>0.68436</td>\n",
       "      <td>0.920260</td>\n",
       "      <td>0.6490</td>\n",
       "      <td>1.036629</td>\n",
       "    </tr>\n",
       "    <tr>\n",
       "      <th>4</th>\n",
       "      <td>0.71370</td>\n",
       "      <td>0.835251</td>\n",
       "      <td>0.6271</td>\n",
       "      <td>1.187372</td>\n",
       "    </tr>\n",
       "  </tbody>\n",
       "</table>\n",
       "</div>"
      ],
      "text/plain": [
       "   accuracy      loss  val_accuracy  val_loss\n",
       "0   0.44654  1.537821        0.5024  1.387193\n",
       "1   0.58084  1.192065        0.5834  1.178866\n",
       "2   0.64180  1.029286        0.6375  1.044295\n",
       "3   0.68436  0.920260        0.6490  1.036629\n",
       "4   0.71370  0.835251        0.6271  1.187372"
      ]
     },
     "execution_count": 34,
     "metadata": {},
     "output_type": "execute_result"
    }
   ],
   "source": [
    "losses.head()"
   ]
  },
  {
   "cell_type": "code",
   "execution_count": 35,
   "id": "03d7b2e6",
   "metadata": {
    "execution": {
     "iopub.execute_input": "2024-03-06T05:45:10.510752Z",
     "iopub.status.busy": "2024-03-06T05:45:10.510302Z",
     "iopub.status.idle": "2024-03-06T05:45:10.882251Z",
     "shell.execute_reply": "2024-03-06T05:45:10.881015Z"
    },
    "papermill": {
     "duration": 0.857215,
     "end_time": "2024-03-06T05:45:10.884998",
     "exception": false,
     "start_time": "2024-03-06T05:45:10.027783",
     "status": "completed"
    },
    "tags": []
   },
   "outputs": [
    {
     "data": {
      "text/plain": [
       "<Axes: >"
      ]
     },
     "execution_count": 35,
     "metadata": {},
     "output_type": "execute_result"
    },
    {
     "data": {
      "image/png": "[encoded data removed]",
      "text/plain": [
       "<Figure size 640x480 with 1 Axes>"
      ]
     },
     "metadata": {},
     "output_type": "display_data"
    }
   ],
   "source": [
    "losses[['accuracy', 'val_accuracy']].plot()"
   ]
  },
  {
   "cell_type": "code",
   "execution_count": 36,
   "id": "92383bf4",
   "metadata": {
    "execution": {
     "iopub.execute_input": "2024-03-06T05:45:11.926729Z",
     "iopub.status.busy": "2024-03-06T05:45:11.926324Z",
     "iopub.status.idle": "2024-03-06T05:45:12.255393Z",
     "shell.execute_reply": "2024-03-06T05:45:12.254167Z"
    },
    "papermill": {
     "duration": 0.823706,
     "end_time": "2024-03-06T05:45:12.258443",
     "exception": false,
     "start_time": "2024-03-06T05:45:11.434737",
     "status": "completed"
    },
    "tags": []
   },
   "outputs": [
    {
     "data": {
      "text/plain": [
       "<Axes: >"
      ]
     },
     "execution_count": 36,
     "metadata": {},
     "output_type": "execute_result"
    },
    {
     "data": {
      "image/png": "[encoded data removed]",
      "text/plain": [
       "<Figure size 640x480 with 1 Axes>"
      ]
     },
     "metadata": {},
     "output_type": "display_data"
    }
   ],
   "source": [
    "losses[['loss', 'val_loss']].plot()"
   ]
  },
  {
   "cell_type": "code",
   "execution_count": 37,
   "id": "94925e23",
   "metadata": {
    "execution": {
     "iopub.execute_input": "2024-03-06T05:45:13.239613Z",
     "iopub.status.busy": "2024-03-06T05:45:13.239193Z",
     "iopub.status.idle": "2024-03-06T05:45:13.246620Z",
     "shell.execute_reply": "2024-03-06T05:45:13.245401Z"
    },
    "papermill": {
     "duration": 0.497439,
     "end_time": "2024-03-06T05:45:13.249047",
     "exception": false,
     "start_time": "2024-03-06T05:45:12.751608",
     "status": "completed"
    },
    "tags": []
   },
   "outputs": [
    {
     "data": {
      "text/plain": [
       "['loss', 'compile_metrics']"
      ]
     },
     "execution_count": 37,
     "metadata": {},
     "output_type": "execute_result"
    }
   ],
   "source": [
    "model.metrics_names"
   ]
  },
  {
   "cell_type": "code",
   "execution_count": 38,
   "id": "9c6cdea8",
   "metadata": {
    "execution": {
     "iopub.execute_input": "2024-03-06T05:45:14.237802Z",
     "iopub.status.busy": "2024-03-06T05:45:14.237333Z",
     "iopub.status.idle": "2024-03-06T05:45:16.622446Z",
     "shell.execute_reply": "2024-03-06T05:45:16.621224Z"
    },
    "papermill": {
     "duration": 2.884742,
     "end_time": "2024-03-06T05:45:16.625605",
     "exception": false,
     "start_time": "2024-03-06T05:45:13.740863",
     "status": "completed"
    },
    "tags": []
   },
   "outputs": [
    {
     "name": "stdout",
     "output_type": "stream",
     "text": [
      "['loss', 'compile_metrics']\n",
      "[1.0627714395523071, 0.6662999987602234]\n"
     ]
    }
   ],
   "source": [
    "print(model.metrics_names)\n",
    "print(model.evaluate(x_test,y_cat_test,verbose=0))"
   ]
  },
  {
   "cell_type": "code",
   "execution_count": 39,
   "id": "fa5b7b30",
   "metadata": {
    "execution": {
     "iopub.execute_input": "2024-03-06T05:45:17.672187Z",
     "iopub.status.busy": "2024-03-06T05:45:17.671738Z",
     "iopub.status.idle": "2024-03-06T05:45:18.700125Z",
     "shell.execute_reply": "2024-03-06T05:45:18.698754Z"
    },
    "papermill": {
     "duration": 1.526575,
     "end_time": "2024-03-06T05:45:18.703218",
     "exception": false,
     "start_time": "2024-03-06T05:45:17.176643",
     "status": "completed"
    },
    "tags": []
   },
   "outputs": [],
   "source": [
    "from sklearn.metrics import classification_report, confusion_matrix"
   ]
  },
  {
   "cell_type": "code",
   "execution_count": 40,
   "id": "d1cc4cfa",
   "metadata": {
    "execution": {
     "iopub.execute_input": "2024-03-06T05:45:19.720880Z",
     "iopub.status.busy": "2024-03-06T05:45:19.720439Z",
     "iopub.status.idle": "2024-03-06T05:45:22.631729Z",
     "shell.execute_reply": "2024-03-06T05:45:22.630401Z"
    },
    "papermill": {
     "duration": 3.407917,
     "end_time": "2024-03-06T05:45:22.634546",
     "exception": false,
     "start_time": "2024-03-06T05:45:19.226629",
     "status": "completed"
    },
    "tags": []
   },
   "outputs": [
    {
     "name": "stdout",
     "output_type": "stream",
     "text": [
      "\u001b[1m313/313\u001b[0m \u001b[32m━━━━━━━━━━━━━━━━━━━━\u001b[0m\u001b[37m\u001b[0m \u001b[1m2s\u001b[0m 7ms/step\n"
     ]
    }
   ],
   "source": [
    "predictions = np.argmax(model.predict(x_test), axis=1)"
   ]
  },
  {
   "cell_type": "code",
   "execution_count": 41,
   "id": "a9f22f55",
   "metadata": {
    "execution": {
     "iopub.execute_input": "2024-03-06T05:45:23.704903Z",
     "iopub.status.busy": "2024-03-06T05:45:23.704034Z",
     "iopub.status.idle": "2024-03-06T05:45:23.711392Z",
     "shell.execute_reply": "2024-03-06T05:45:23.710137Z"
    },
    "papermill": {
     "duration": 0.58436,
     "end_time": "2024-03-06T05:45:23.713844",
     "exception": false,
     "start_time": "2024-03-06T05:45:23.129484",
     "status": "completed"
    },
    "tags": []
   },
   "outputs": [
    {
     "data": {
      "text/plain": [
       "(10000, 10)"
      ]
     },
     "execution_count": 41,
     "metadata": {},
     "output_type": "execute_result"
    }
   ],
   "source": [
    "y_cat_test.shape"
   ]
  },
  {
   "cell_type": "code",
   "execution_count": 42,
   "id": "69e2e5e1",
   "metadata": {
    "execution": {
     "iopub.execute_input": "2024-03-06T05:45:24.714306Z",
     "iopub.status.busy": "2024-03-06T05:45:24.713863Z",
     "iopub.status.idle": "2024-03-06T05:45:24.721195Z",
     "shell.execute_reply": "2024-03-06T05:45:24.720052Z"
    },
    "papermill": {
     "duration": 0.513955,
     "end_time": "2024-03-06T05:45:24.723579",
     "exception": false,
     "start_time": "2024-03-06T05:45:24.209624",
     "status": "completed"
    },
    "tags": []
   },
   "outputs": [
    {
     "data": {
      "text/plain": [
       "array([[3],\n",
       "       [8],\n",
       "       [8],\n",
       "       ...,\n",
       "       [5],\n",
       "       [1],\n",
       "       [7]], dtype=uint8)"
      ]
     },
     "execution_count": 42,
     "metadata": {},
     "output_type": "execute_result"
    }
   ],
   "source": [
    "y_test"
   ]
  },
  {
   "cell_type": "code",
   "execution_count": 43,
   "id": "0c49f52c",
   "metadata": {
    "execution": {
     "iopub.execute_input": "2024-03-06T05:45:25.712587Z",
     "iopub.status.busy": "2024-03-06T05:45:25.712137Z",
     "iopub.status.idle": "2024-03-06T05:45:25.723415Z",
     "shell.execute_reply": "2024-03-06T05:45:25.722336Z"
    },
    "papermill": {
     "duration": 0.512442,
     "end_time": "2024-03-06T05:45:25.725784",
     "exception": false,
     "start_time": "2024-03-06T05:45:25.213342",
     "status": "completed"
    },
    "tags": []
   },
   "outputs": [
    {
     "data": {
      "text/plain": [
       "array([[692,  22,  91,  36,  23,   4,  24,   5,  79,  24],\n",
       "       [ 19, 815,  16,  20,   3,   1,  21,   2,  35,  68],\n",
       "       [ 49,   7, 652,  76,  50,  36,  82,  23,  19,   6],\n",
       "       [ 15,  20, 111, 539,  53,  79, 125,  27,  16,  15],\n",
       "       [ 17,   8, 153,  88, 571,  20,  93,  35,  12,   3],\n",
       "       [  6,   7, 108, 272,  53, 428,  64,  48,   8,   6],\n",
       "       [  2,  11,  71,  61,  23,   8, 810,   4,   4,   6],\n",
       "       [ 21,  10,  75,  71,  53,  36,  31, 679,   2,  22],\n",
       "       [ 70,  32,  29,  36,   8,   1,  13,   4, 779,  28],\n",
       "       [ 30, 117,  29,  18,  13,   7,  26,  16,  46, 698]])"
      ]
     },
     "execution_count": 43,
     "metadata": {},
     "output_type": "execute_result"
    }
   ],
   "source": [
    "confusion_matrix(y_test,predictions)"
   ]
  },
  {
   "cell_type": "code",
   "execution_count": 44,
   "id": "1a96040b",
   "metadata": {
    "execution": {
     "iopub.execute_input": "2024-03-06T05:45:26.836464Z",
     "iopub.status.busy": "2024-03-06T05:45:26.835595Z",
     "iopub.status.idle": "2024-03-06T05:45:27.913120Z",
     "shell.execute_reply": "2024-03-06T05:45:27.911861Z"
    },
    "papermill": {
     "duration": 1.653491,
     "end_time": "2024-03-06T05:45:27.915886",
     "exception": false,
     "start_time": "2024-03-06T05:45:26.262395",
     "status": "completed"
    },
    "tags": []
   },
   "outputs": [
    {
     "data": {
      "text/plain": [
       "<Axes: >"
      ]
     },
     "execution_count": 44,
     "metadata": {},
     "output_type": "execute_result"
    },
    {
     "data": {
      "image/png": "[encoded data removed]",
      "text/plain": [
       "<Figure size 1000x600 with 2 Axes>"
      ]
     },
     "metadata": {},
     "output_type": "display_data"
    }
   ],
   "source": [
    "import seaborn as sns\n",
    "plt.figure(figsize=(10,6))\n",
    "sns.heatmap(confusion_matrix(y_test,predictions),annot=True)"
   ]
  },
  {
   "cell_type": "code",
   "execution_count": 45,
   "id": "edfef801",
   "metadata": {
    "execution": {
     "iopub.execute_input": "2024-03-06T05:45:28.914581Z",
     "iopub.status.busy": "2024-03-06T05:45:28.914186Z",
     "iopub.status.idle": "2024-03-06T05:45:28.952010Z",
     "shell.execute_reply": "2024-03-06T05:45:28.950839Z"
    },
    "papermill": {
     "duration": 0.540382,
     "end_time": "2024-03-06T05:45:28.954586",
     "exception": false,
     "start_time": "2024-03-06T05:45:28.414204",
     "status": "completed"
    },
    "tags": []
   },
   "outputs": [
    {
     "name": "stdout",
     "output_type": "stream",
     "text": [
      "              precision    recall  f1-score   support\n",
      "\n",
      "           0       0.75      0.69      0.72      1000\n",
      "           1       0.78      0.81      0.80      1000\n",
      "           2       0.49      0.65      0.56      1000\n",
      "           3       0.44      0.54      0.49      1000\n",
      "           4       0.67      0.57      0.62      1000\n",
      "           5       0.69      0.43      0.53      1000\n",
      "           6       0.63      0.81      0.71      1000\n",
      "           7       0.81      0.68      0.74      1000\n",
      "           8       0.78      0.78      0.78      1000\n",
      "           9       0.80      0.70      0.74      1000\n",
      "\n",
      "    accuracy                           0.67     10000\n",
      "   macro avg       0.68      0.67      0.67     10000\n",
      "weighted avg       0.68      0.67      0.67     10000\n",
      "\n"
     ]
    }
   ],
   "source": [
    "print(classification_report(y_test,predictions))"
   ]
  },
  {
   "cell_type": "markdown",
   "id": "9a420d7d",
   "metadata": {
    "papermill": {
     "duration": 0.49912,
     "end_time": "2024-03-06T05:45:29.964445",
     "exception": false,
     "start_time": "2024-03-06T05:45:29.465325",
     "status": "completed"
    },
    "tags": []
   },
   "source": [
    "## Predicting a Given Image"
   ]
  },
  {
   "cell_type": "code",
   "execution_count": 46,
   "id": "3839a0b5",
   "metadata": {
    "execution": {
     "iopub.execute_input": "2024-03-06T05:45:31.025433Z",
     "iopub.status.busy": "2024-03-06T05:45:31.024631Z",
     "iopub.status.idle": "2024-03-06T05:45:31.029181Z",
     "shell.execute_reply": "2024-03-06T05:45:31.028267Z"
    },
    "papermill": {
     "duration": 0.507782,
     "end_time": "2024-03-06T05:45:31.031286",
     "exception": false,
     "start_time": "2024-03-06T05:45:30.523504",
     "status": "completed"
    },
    "tags": []
   },
   "outputs": [],
   "source": [
    "my_image = x_test[10]"
   ]
  },
  {
   "cell_type": "code",
   "execution_count": 47,
   "id": "529d5de0",
   "metadata": {
    "execution": {
     "iopub.execute_input": "2024-03-06T05:45:32.020386Z",
     "iopub.status.busy": "2024-03-06T05:45:32.019958Z",
     "iopub.status.idle": "2024-03-06T05:45:32.309209Z",
     "shell.execute_reply": "2024-03-06T05:45:32.308068Z"
    },
    "papermill": {
     "duration": 0.785296,
     "end_time": "2024-03-06T05:45:32.311711",
     "exception": false,
     "start_time": "2024-03-06T05:45:31.526415",
     "status": "completed"
    },
    "tags": []
   },
   "outputs": [
    {
     "data": {
      "text/plain": [
       "<matplotlib.image.AxesImage at 0x7acdab09fe20>"
      ]
     },
     "execution_count": 47,
     "metadata": {},
     "output_type": "execute_result"
    },
    {
     "data": {
      "image/png": "[encoded data removed]",
      "text/plain": [
       "<Figure size 640x480 with 1 Axes>"
      ]
     },
     "metadata": {},
     "output_type": "display_data"
    }
   ],
   "source": [
    "plt.imshow(my_image)"
   ]
  },
  {
   "cell_type": "code",
   "execution_count": 48,
   "id": "a38506d3",
   "metadata": {
    "execution": {
     "iopub.execute_input": "2024-03-06T05:45:33.301690Z",
     "iopub.status.busy": "2024-03-06T05:45:33.300625Z",
     "iopub.status.idle": "2024-03-06T05:45:33.308543Z",
     "shell.execute_reply": "2024-03-06T05:45:33.307485Z"
    },
    "papermill": {
     "duration": 0.503226,
     "end_time": "2024-03-06T05:45:33.310823",
     "exception": false,
     "start_time": "2024-03-06T05:45:32.807597",
     "status": "completed"
    },
    "tags": []
   },
   "outputs": [
    {
     "data": {
      "text/plain": [
       "array([3], dtype=uint8)"
      ]
     },
     "execution_count": 48,
     "metadata": {},
     "output_type": "execute_result"
    }
   ],
   "source": [
    "y_test[0]"
   ]
  },
  {
   "cell_type": "code",
   "execution_count": 49,
   "id": "0274c9b2",
   "metadata": {
    "execution": {
     "iopub.execute_input": "2024-03-06T05:45:34.370020Z",
     "iopub.status.busy": "2024-03-06T05:45:34.369623Z",
     "iopub.status.idle": "2024-03-06T05:45:34.453803Z",
     "shell.execute_reply": "2024-03-06T05:45:34.452609Z"
    },
    "papermill": {
     "duration": 0.585764,
     "end_time": "2024-03-06T05:45:34.456143",
     "exception": false,
     "start_time": "2024-03-06T05:45:33.870379",
     "status": "completed"
    },
    "tags": []
   },
   "outputs": [
    {
     "name": "stdout",
     "output_type": "stream",
     "text": [
      "\u001b[1m1/1\u001b[0m \u001b[32m━━━━━━━━━━━━━━━━━━━━\u001b[0m\u001b[37m\u001b[0m \u001b[1m0s\u001b[0m 22ms/step\n"
     ]
    },
    {
     "data": {
      "text/plain": [
       "array([[3.3544341e-01, 3.6797969e-04, 9.4531151e-03, 4.4299118e-02,\n",
       "        1.8424955e-01, 1.2110682e-02, 1.5890237e-02, 2.4747010e-02,\n",
       "        3.7076044e-01, 2.6784257e-03]], dtype=float32)"
      ]
     },
     "execution_count": 49,
     "metadata": {},
     "output_type": "execute_result"
    }
   ],
   "source": [
    "# SHAPE --> (num_images,width,height,color_channels)\n",
    "model.predict(my_image.reshape(1,32,32,3))"
   ]
  },
  {
   "cell_type": "code",
   "execution_count": 50,
   "id": "1f2b369d",
   "metadata": {
    "execution": {
     "iopub.execute_input": "2024-03-06T05:45:35.440335Z",
     "iopub.status.busy": "2024-03-06T05:45:35.439685Z",
     "iopub.status.idle": "2024-03-06T05:45:35.520527Z",
     "shell.execute_reply": "2024-03-06T05:45:35.519342Z"
    },
    "papermill": {
     "duration": 0.575286,
     "end_time": "2024-03-06T05:45:35.522782",
     "exception": false,
     "start_time": "2024-03-06T05:45:34.947496",
     "status": "completed"
    },
    "tags": []
   },
   "outputs": [
    {
     "name": "stdout",
     "output_type": "stream",
     "text": [
      "\u001b[1m1/1\u001b[0m \u001b[32m━━━━━━━━━━━━━━━━━━━━\u001b[0m\u001b[37m\u001b[0m \u001b[1m0s\u001b[0m 20ms/step\n"
     ]
    },
    {
     "data": {
      "text/plain": [
       "array([8])"
      ]
     },
     "execution_count": 50,
     "metadata": {},
     "output_type": "execute_result"
    }
   ],
   "source": [
    "# SHAPE --> (num_images,width,height,color_channels)\n",
    "np.argmax(model.predict(my_image.reshape(1,32,32,3)),axis=1)"
   ]
  },
  {
   "cell_type": "markdown",
   "id": "8e8d1e8e",
   "metadata": {
    "papermill": {
     "duration": 0.555087,
     "end_time": "2024-03-06T05:45:36.572820",
     "exception": false,
     "start_time": "2024-03-06T05:45:36.017733",
     "status": "completed"
    },
    "tags": []
   },
   "source": [
    "## Good Job!"
   ]
  }
 ],
 "metadata": {
  "kaggle": {
   "accelerator": "none",
   "dataSources": [],
   "isGpuEnabled": false,
   "isInternetEnabled": true,
   "language": "python",
   "sourceType": "notebook"
  },
  "kernelspec": {
   "display_name": "Python 3 (ipykernel)",
   "language": "python",
   "name": "python3"
  },
  "language_info": {
   "codemirror_mode": {
    "name": "ipython",
    "version": 3
   },
   "file_extension": ".py",
   "mimetype": "text/x-python",
   "name": "python",
   "nbconvert_exporter": "python",
   "pygments_lexer": "ipython3",
   "version": "3.10.13"
  },
  "papermill": {
   "default_parameters": {},
   "duration": 399.624381,
   "end_time": "2024-03-06T05:45:40.011043",
   "environment_variables": {},
   "exception": null,
   "input_path": "__notebook__.ipynb",
   "output_path": "__notebook__.ipynb",
   "parameters": {},
   "start_time": "2024-03-06T05:39:00.386662",
   "version": "2.5.0"
  }
 },
 "nbformat": 4,
 "nbformat_minor": 5
}
